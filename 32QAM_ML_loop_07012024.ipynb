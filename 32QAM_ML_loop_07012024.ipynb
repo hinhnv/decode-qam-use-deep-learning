{
  "nbformat": 4,
  "nbformat_minor": 0,
  "metadata": {
    "colab": {
      "provenance": [],
      "gpuType": "T4",
      "authorship_tag": "ABX9TyOc8u6fJJG/cLTlZIcF5lgS",
      "include_colab_link": true
    },
    "kernelspec": {
      "name": "python3",
      "display_name": "Python 3"
    },
    "language_info": {
      "name": "python"
    },
    "accelerator": "GPU"
  },
  "cells": [
    {
      "cell_type": "markdown",
      "metadata": {
        "id": "view-in-github",
        "colab_type": "text"
      },
      "source": [
        "<a href=\"https://colab.research.google.com/github/hinhnv/decode-qam-use-deep-learning/blob/main/32QAM_ML_loop_07012024.ipynb\" target=\"_parent\"><img src=\"https://colab.research.google.com/assets/colab-badge.svg\" alt=\"Open In Colab\"/></a>"
      ]
    },
    {
      "cell_type": "code",
      "execution_count": null,
      "metadata": {
        "id": "KTn2fr7qsZ0O",
        "colab": {
          "base_uri": "https://localhost:8080/"
        },
        "outputId": "c6cd23ad-ef5c-4096-bed0-67bd2d34a42b"
      },
      "outputs": [
        {
          "output_type": "stream",
          "name": "stdout",
          "text": [
            "Mounted at /content/drive\n"
          ]
        }
      ],
      "source": [
        "from google.colab import drive\n",
        "drive.mount('/content/drive')"
      ]
    },
    {
      "cell_type": "code",
      "source": [
        "import csv\n",
        "import scipy.io\n",
        "import numpy as np\n",
        "import tensorflow as tf\n",
        "from tensorflow import keras\n",
        "from sklearn.model_selection import train_test_split\n",
        "from sklearn.preprocessing import StandardScaler\n",
        "from sklearn.metrics import accuracy_score\n",
        "from tensorflow.keras.optimizers import Adam\n",
        "from keras.models import Sequential\n",
        "from keras.layers import Dense, MaxPooling2D, Flatten, Convolution2D, Dropout, BatchNormalization,Conv1D, MaxPooling1D\n",
        "from tensorflow.keras.utils import to_categorical\n",
        "from tensorflow.keras.callbacks import ReduceLROnPlateau\n"
      ],
      "metadata": {
        "id": "8MYfGOuvsaQE"
      },
      "execution_count": null,
      "outputs": []
    },
    {
      "cell_type": "code",
      "source": [
        "dBms = list(range(0,1))"
      ],
      "metadata": {
        "id": "r0SYo9asscVz"
      },
      "execution_count": null,
      "outputs": []
    },
    {
      "cell_type": "code",
      "source": [
        "# define tham so dieu che\n",
        "M = 32\n",
        "# mode = 'GG_PhaseEr'\n",
        "mode = 'GG_PointErr'"
      ],
      "metadata": {
        "id": "rCDk0SkUhjM_"
      },
      "execution_count": null,
      "outputs": []
    },
    {
      "cell_type": "code",
      "source": [
        "# Mở tệp CSV để ghi\n",
        "with open('result_QAM_' + mode + '.csv',  mode='a', newline='') as csvfile:\n",
        "    csv_writer = csv.writer(csvfile)\n",
        "\n",
        "    csv_writer.writerow(['Ber Mo phong','Ber Neural Network'])\n",
        "\n",
        "    for dBm in dBms:\n",
        "        # Load the .mat file\n",
        "        print(dBm)\n",
        "        datasets = scipy.io.loadmat('/content/drive/MyDrive/QAM/' + str(M) + 'QAM/data_32QAM_' + mode + '_' + str(dBm) + 'dBm.mat')\n",
        "\n",
        "        # Access the variables in the .mat file\n",
        "\n",
        "        data = datasets['data']\n",
        "        data_noise = datasets['data_noise'][0]\n",
        "        data_label = datasets['data_complex'][0]\n",
        "        SNR = datasets['SNR'][0][0]\n",
        "        ber_montecarlo = datasets['BER_simul'][0][0]\n",
        "\n",
        "        data_noise_real = data_noise.real\n",
        "        data_noise_imag = data_noise.imag\n",
        "        # Load your data\n",
        "        X = np.column_stack((data_noise_real, data_noise_imag))\n",
        "\n",
        "        # Khoảng cách tuyệt đối\n",
        "        abs_distance_real = np.abs(data_noise_real)\n",
        "        abs_distance_imag = np.abs(data_noise_imag)\n",
        "\n",
        "        # Khoảng cách Euclidean\n",
        "        euclidean_distance = np.sqrt(data_noise_real**2 + data_noise_imag**2)\n",
        "\n",
        "        # Thêm các đặc trưng mới vào X\n",
        "        X = np.column_stack((X, abs_distance_real, abs_distance_imag, euclidean_distance))\n",
        "\n",
        "        # label\n",
        "        y = data.ravel()\n",
        "\n",
        "        # print(data)\n",
        "\n",
        "        # Split the data into training and testing sets\n",
        "        X_train, X_temp, y_train, y_temp = train_test_split(X, y, test_size=0.4, random_state=42)\n",
        "        X_val, X_test, y_val, y_test = train_test_split(X_temp, y_temp, test_size=0.5, random_state=42)\n",
        "\n",
        "        # Scale lai du lieu\n",
        "        # scaler = StandardScaler()\n",
        "        # X_train = scaler.fit_transform(X_train)\n",
        "        # X_test = scaler.transform(X_test)\n",
        "        # X_val = scaler.transform(X_val)\n",
        "\n",
        "        print(\"NN\")\n",
        "        # Mã hoá one-hot cho y_train và y_test nếu cần\n",
        "        # y_train_encoded = to_categorical(y_train)\n",
        "        # y_test_encoded = to_categorical(y_test)\n",
        "        # Define a simple neural network model\n",
        "        # Tạo một mô hình Sequential\n",
        "\n",
        "        # Tạo mô hình ResNet50 cho việc trích xuất đặc trưng\n",
        "\n",
        "        model = Sequential()\n",
        "\n",
        "        # Thêm các layer\n",
        "\n",
        "        model.add(Dense(1024, input_shape=(5, ), activation='relu'))\n",
        "        model.add(BatchNormalization())  # Lớp chuẩn hóa\n",
        "        model.add(Dropout(0.3))  # Dropout để giảm overfitting\n",
        "\n",
        "        model.add(Dense(512, activation='relu'))\n",
        "        model.add(BatchNormalization())\n",
        "        model.add(Dropout(0.3))\n",
        "\n",
        "        model.add(Dense(256, activation='relu'))\n",
        "        model.add(BatchNormalization())\n",
        "        model.add(Dropout(0.3))\n",
        "\n",
        "        model.add(Dense(128, activation='relu'))\n",
        "        model.add(BatchNormalization())\n",
        "        model.add(Dropout(0.3))\n",
        "        model.add(Dense(M, activation='softmax'))\n",
        "\n",
        "\n",
        "        # Compile mô hình với optimizer và hàm loss\n",
        "        reduce_lr = ReduceLROnPlateau(monitor='val_loss', factor=0.8, patience=2, min_lr=0.000001)\n",
        "        optimizer = Adam(learning_rate=0.01)\n",
        "        model.compile(optimizer=optimizer,\n",
        "                      loss='sparse_categorical_crossentropy',\n",
        "                      metrics=['accuracy'])\n",
        "        # model.compile(optimizer=optimizer,\n",
        "        #               loss='mse',\n",
        "        #               metrics=['accuracy'])\n",
        "\n",
        "        # Huấn luyện mô hình với dữ liệu\n",
        "        # history = model.fit(X_train, y_train, epochs=20, batch_size=256, validation_data=(X_val, y_val),  callbacks=[reduce_lr])\n",
        "        history = model.fit(X_train, y_train, epochs=10, batch_size=512, validation_data=(X_val, y_val))\n",
        "\n",
        "\n",
        "        import matplotlib.pyplot as plt\n",
        "        # Lấy thông tin về accuracy và loss từ quá trình huấn luyện\n",
        "        train_accuracy = history.history['accuracy']\n",
        "        val_accuracy = history.history['val_accuracy']\n",
        "        train_loss = history.history['loss']\n",
        "        val_loss = history.history['val_loss']\n",
        "        epochs = range(1, len(train_accuracy) + 1)\n",
        "\n",
        "        # Vẽ đồ thị accuracy\n",
        "        plt.figure(figsize=(12, 5))\n",
        "        plt.subplot(1, 2, 1)\n",
        "        plt.plot(epochs, train_accuracy, 'g', label='Training accuracy')\n",
        "        plt.plot(epochs, val_accuracy, 'b', label='Validation accuracy')\n",
        "        plt.title('Training and Validation Accuracy')\n",
        "        plt.xlabel('Epochs')\n",
        "        plt.ylabel('Accuracy')\n",
        "        plt.legend()\n",
        "\n",
        "        # Vẽ đồ thị loss\n",
        "        plt.subplot(1, 2, 2)\n",
        "        plt.plot(epochs, train_loss, 'r', label='Training loss')\n",
        "        plt.plot(epochs, val_loss, 'orange', label='Validation loss')\n",
        "        plt.title('Training and Validation Loss')\n",
        "        plt.xlabel('Epochs')\n",
        "        plt.ylabel('Loss')\n",
        "        plt.legend()\n",
        "\n",
        "        plt.tight_layout()\n",
        "        plt.show()\n",
        "\n",
        "        predicted_probabilities = model.predict(X_test)\n",
        "\n",
        "        # Lấy chỉ số của lớp có xác suất cao nhất\n",
        "        predicted_class = np.argmax(predicted_probabilities, axis=1)\n",
        "\n",
        "        prediction_bin = [list(bin(num)[2:].zfill(5)[::-1]) for num in predicted_class]\n",
        "        y_test_bin = [list(bin(num)[2:].zfill(5)[::-1]) for num in y_test]\n",
        "\n",
        "        # Kiểm tra nếu các danh sách có cùng độ dài và tìm số lỗi bit\n",
        "        if len(prediction_bin) == len(y_test_bin):\n",
        "            nBitErr = sum([1 for i in range(len(prediction_bin)-1) for j in range(len(prediction_bin[i])-1) if prediction_bin[i][j] != y_test_bin[i][j]])\n",
        "            print(nBitErr)\n",
        "        else:\n",
        "            print(\"Độ dài của các danh sách không khớp nhau.\")\n",
        "\n",
        "        ber_nn = nBitErr/(len(X_test)*5)\n",
        "\n",
        "        # # Calculate the accuracy of the neural network model\n",
        "        # accuracy_nn = accuracy_score(y_test, y_pred_nn)\n",
        "\n",
        "        values = [ber_montecarlo, ber_nn]\n",
        "        print(values)\n",
        "        csv_writer.writerow(values)"
      ],
      "metadata": {
        "id": "83kkfggnscb3",
        "colab": {
          "base_uri": "https://localhost:8080/",
          "height": 941
        },
        "outputId": "78f67011-fc55-410b-823d-ddac5246e121"
      },
      "execution_count": null,
      "outputs": [
        {
          "output_type": "stream",
          "name": "stdout",
          "text": [
            "0\n",
            "NN\n",
            "Epoch 1/10\n",
            "2344/2344 [==============================] - 26s 8ms/step - loss: 2.3353 - accuracy: 0.3263 - val_loss: 2.2817 - val_accuracy: 0.3422\n",
            "Epoch 2/10\n",
            "2344/2344 [==============================] - 18s 8ms/step - loss: 2.3097 - accuracy: 0.3370 - val_loss: 2.2742 - val_accuracy: 0.3455\n",
            "Epoch 3/10\n",
            "2344/2344 [==============================] - 19s 8ms/step - loss: 2.3070 - accuracy: 0.3390 - val_loss: 2.2721 - val_accuracy: 0.3446\n",
            "Epoch 4/10\n",
            "2344/2344 [==============================] - 20s 8ms/step - loss: 2.3038 - accuracy: 0.3400 - val_loss: 2.2714 - val_accuracy: 0.3476\n",
            "Epoch 5/10\n",
            "2344/2344 [==============================] - 19s 8ms/step - loss: 2.3019 - accuracy: 0.3409 - val_loss: 2.2652 - val_accuracy: 0.3486\n",
            "Epoch 6/10\n",
            "2344/2344 [==============================] - 19s 8ms/step - loss: 2.3006 - accuracy: 0.3413 - val_loss: 2.2719 - val_accuracy: 0.3468\n",
            "Epoch 7/10\n",
            "2344/2344 [==============================] - 21s 9ms/step - loss: 2.3000 - accuracy: 0.3420 - val_loss: 2.2722 - val_accuracy: 0.3470\n",
            "Epoch 8/10\n",
            "2344/2344 [==============================] - 20s 9ms/step - loss: 2.2984 - accuracy: 0.3422 - val_loss: 2.2686 - val_accuracy: 0.3473\n",
            "Epoch 9/10\n",
            "2344/2344 [==============================] - 22s 10ms/step - loss: 2.2982 - accuracy: 0.3423 - val_loss: 2.2765 - val_accuracy: 0.3444\n",
            "Epoch 10/10\n",
            "2344/2344 [==============================] - 19s 8ms/step - loss: 2.2966 - accuracy: 0.3424 - val_loss: 2.2672 - val_accuracy: 0.3472\n"
          ]
        },
        {
          "output_type": "display_data",
          "data": {
            "text/plain": [
              "<Figure size 1200x500 with 2 Axes>"
            ],
            "image/png": "[encoded data removed]"
          },
          "metadata": {}
        },
        {
          "output_type": "stream",
          "name": "stdout",
          "text": [
            "12500/12500 [==============================] - 26s 2ms/step\n",
            "394681\n",
            "[0.2174926, 0.1973405]\n"
          ]
        }
      ]
    },
    {
      "cell_type": "code",
      "source": [
        "# predicted_probabilities = model.predict(X_test)\n",
        "\n",
        "# # Lấy chỉ số của lớp có xác suất cao nhất\n",
        "# predicted_class = np.argmax(predicted_probabilities, axis=1)\n",
        "\n",
        "# prediction_bin = [list(bin(num)[2:].zfill(5)[::-1]) for num in predicted_class]\n",
        "# y_test_bin = [list(bin(num)[2:].zfill(5)[::-1]) for num in y_test]\n",
        "\n",
        "# # Kiểm tra nếu các danh sách có cùng độ dài và tìm số lỗi bit\n",
        "# if len(prediction_bin) == len(y_test_bin):\n",
        "#     nBitErr = sum([1 for i in range(len(prediction_bin)-1) for j in range(len(prediction_bin[i])-1) if prediction_bin[i][j] != y_test_bin[i][j]])\n",
        "#     print(nBitErr)\n",
        "# else:\n",
        "#     print(\"Độ dài của các danh sách không khớp nhau.\")\n",
        "\n",
        "# ber_nn = nBitErr/(len(X_test)*5)\n",
        "\n",
        "# # # Calculate the accuracy of the neural network model\n",
        "# # accuracy_nn = accuracy_score(y_test, y_pred_nn)\n",
        "\n",
        "# values = [ber_montecarlo, ber_nn]\n",
        "# print(values)"
      ],
      "metadata": {
        "id": "kKNIFySlMtD7"
      },
      "execution_count": null,
      "outputs": []
    },
    {
      "cell_type": "code",
      "source": [
        "for dBm in dBms:\n",
        "        # Load the .mat file\n",
        "        print(dBm)\n",
        "        datasets = scipy.io.loadmat('/content/drive/MyDrive/QAM/' + str(M) + 'QAM/data_32QAM_' + mode + '_' + str(dBm) + 'dBm.mat')\n",
        "\n",
        "        # Access the variables in the .mat file\n",
        "\n",
        "        data = datasets['data']\n",
        "        data_noise = datasets['data_noise'][0]\n",
        "        data_label = datasets['data_complex'][0]\n",
        "        SNR = datasets['SNR'][0][0]\n",
        "        ber_montecarlo = datasets['BER_simul'][0][0]\n",
        "\n",
        "        data_noise_real = data_noise.real\n",
        "        data_noise_imag = data_noise.imag\n",
        "        # Load your data\n",
        "        X = np.column_stack((data_noise_real, data_noise_imag))\n",
        "\n",
        "        # Khoảng cách tuyệt đối\n",
        "        abs_distance_real = np.abs(data_noise_real)\n",
        "        abs_distance_imag = np.abs(data_noise_imag)\n",
        "\n",
        "        # Khoảng cách Euclidean\n",
        "        euclidean_distance = np.sqrt(data_noise_real**2 + data_noise_imag**2)\n",
        "\n",
        "        # Thêm các đặc trưng mới vào X\n",
        "        X = np.column_stack((X, abs_distance_real, abs_distance_imag, euclidean_distance))\n",
        "\n",
        "        # label\n",
        "        y = data.ravel()\n",
        "\n",
        "        # print(data)\n",
        "\n",
        "        # Split the data into training and testing sets\n",
        "        X_train, X_temp, y_train, y_temp = train_test_split(X, y, test_size=0.4, random_state=42)\n",
        "        X_val, X_test, y_val, y_test = train_test_split(X_temp, y_temp, test_size=0.5, random_state=42)"
      ],
      "metadata": {
        "colab": {
          "base_uri": "https://localhost:8080/"
        },
        "id": "SuRRTTooFTrK",
        "outputId": "5c82965b-47b3-4cc4-88eb-14579adcd23f"
      },
      "execution_count": null,
      "outputs": [
        {
          "output_type": "stream",
          "name": "stdout",
          "text": [
            "0\n"
          ]
        }
      ]
    },
    {
      "cell_type": "code",
      "source": [
        "import torch\n",
        "import torch.nn as nn\n",
        "import torch.optim as optim\n",
        "from torch.utils.data import DataLoader, TensorDataset\n",
        "from sklearn.model_selection import train_test_split\n"
      ],
      "metadata": {
        "id": "tTxgsenR-pOc"
      },
      "execution_count": null,
      "outputs": []
    },
    {
      "cell_type": "code",
      "source": [
        "device = torch.device(\"cuda:0\" if torch.cuda.is_available() else \"cpu\")"
      ],
      "metadata": {
        "id": "RpAkC6lgAdvi"
      },
      "execution_count": null,
      "outputs": []
    },
    {
      "cell_type": "code",
      "source": [
        "device"
      ],
      "metadata": {
        "colab": {
          "base_uri": "https://localhost:8080/"
        },
        "id": "CY0aNRPEE2_m",
        "outputId": "9c9d2141-1b15-453e-def7-19270863fd98"
      },
      "execution_count": null,
      "outputs": [
        {
          "output_type": "execute_result",
          "data": {
            "text/plain": [
              "device(type='cuda', index=0)"
            ]
          },
          "metadata": {},
          "execution_count": 10
        }
      ]
    },
    {
      "cell_type": "code",
      "source": [
        "# model_class.classifier = nn.Sequential(\n",
        "#     nn.Linear(classifier_input, 128),\n",
        "#     nn.ReLU(),\n",
        "#     nn.Dropout(0.3),\n",
        "#     nn.Flatten(),\n",
        "#     nn.Dropout(0.5),\n",
        "#     nn.Linear(128, 2), # Since 100 possible outputs\n",
        "#     nn.LogSoftmax(dim=1) # For using NLLLoss()\n",
        "# )\n",
        "\n",
        "# # Convert model to be used on GPU\n",
        "# model_class = model_class.to(device)"
      ],
      "metadata": {
        "id": "g2HINTInAxQH"
      },
      "execution_count": null,
      "outputs": []
    },
    {
      "cell_type": "code",
      "source": [
        "# Define the neural network model\n",
        "class SimpleNN(nn.Module):\n",
        "    def __init__(self, input_size, num_classes):\n",
        "        super(SimpleNN, self).__init__()\n",
        "        self.fc1 = nn.Linear(input_size, 1024)\n",
        "        self.bn1 = nn.BatchNormf1d(1024)\n",
        "        self.dropout1 = nn.Dropout(0.3)\n",
        "\n",
        "        self.fc2 = nn.Linear(1024, 512)\n",
        "        self.bn2 = nn.BatchNorm1d(512)\n",
        "        self.dropout2 = nn.Dropout(0.3)\n",
        "\n",
        "        self.fc3 = nn.Linear(512, 256)\n",
        "        self.bn3 = nn.BatchNorm1d(256)\n",
        "        self.dropout3 = nn.Dropout(0.3)\n",
        "\n",
        "        self.fc4 = nn.Linear(256, 128)\n",
        "        self.bn4 = nn.BatchNorm1d(128)\n",
        "        self.dropout4 = nn.Dropout(0.3)\n",
        "\n",
        "        self.fc5 = nn.Linear(128, num_classes)\n",
        "\n",
        "    def forward(self, x):\n",
        "        x = x.to(self.fc1.weight.device)  # Ensure input is on the same device as the model parameters\n",
        "\n",
        "        x = self.dropout1(self.bn1(torch.relu(self.fc1(x))))\n",
        "        x = self.dropout2(self.bn2(torch.relu(self.fc2(x))))\n",
        "        x = self.dropout3(self.bn3(torch.relu(self.fc3(x))))\n",
        "        x = self.dropout4(self.bn4(torch.relu(self.fc4(x))))\n",
        "        x = self.fc5(x)\n",
        "        return x\n",
        "\n",
        "\n",
        "# Load your data (assuming X, y are your data and labels)\n",
        "train_dataset = TensorDataset(torch.Tensor(X_train), torch.Tensor(y_train))\n",
        "train_loader = DataLoader(train_dataset, batch_size=512, shuffle=True)\n",
        "\n",
        "val_dataset = TensorDataset(torch.Tensor(X_val), torch.Tensor(y_val))\n",
        "val_loader = DataLoader(val_dataset, batch_size=512, shuffle=False)\n",
        "\n",
        "\n",
        "\n",
        "# Convert model to be used on GPU\n",
        "\n",
        "# Create the model instance\n",
        "model = SimpleNN(input_size=5, num_classes=M).to(device)\n",
        "\n",
        "\n",
        "# Loss and optimizer\n",
        "criterion = nn.CrossEntropyLoss()\n",
        "optimizer = optim.Adam(model.parameters(), lr=0.001)\n",
        "\n",
        "num_epochs = 10\n",
        "# Training loop\n",
        "\n",
        "for epoch in range(num_epochs):\n",
        "    # Training phase\n",
        "    model.train()\n",
        "    for inputs, labels in train_loader:\n",
        "        inputs = inputs.to(device)\n",
        "        labels = labels.to(device)\n",
        "        # Forward pass\n",
        "        outputs = model(inputs)\n",
        "        loss = criterion(outputs, labels.long())\n",
        "\n",
        "        # Backward and optimize\n",
        "        optimizer.zero_grad()\n",
        "        loss.backward()\n",
        "        optimizer.step()\n",
        "\n",
        "    # Validation phase\n",
        "    model.eval()\n",
        "    val_loss = 0\n",
        "    val_correct = 0\n",
        "    total = 0\n",
        "    with torch.no_grad():\n",
        "        for inputs, labels in val_loader:\n",
        "            inputs = inputs.to(device)\n",
        "            labels = labels.to(device)\n",
        "            outputs = model(inputs)\n",
        "            loss = criterion(outputs, labels.long())\n",
        "            val_loss += loss.item()\n",
        "            _, predicted = torch.max(outputs.data, 1)\n",
        "            total += labels.size(0)\n",
        "            val_correct += (predicted == labels).sum().item()\n",
        "\n",
        "    avg_val_loss = val_loss / len(val_loader)\n",
        "    val_accuracy = val_correct / total\n",
        "    print(f'Epoch [{epoch+1}/{num_epochs}], Validation Loss: {avg_val_loss}, Validation Accuracy: {val_accuracy}')\n"
      ],
      "metadata": {
        "id": "9fki3axydGzS"
      },
      "execution_count": null,
      "outputs": []
    },
    {
      "cell_type": "code",
      "source": [],
      "metadata": {
        "id": "cUmX0GXN_VTy"
      },
      "execution_count": null,
      "outputs": []
    }
  ]
}